{
 "cells": [
  {
   "cell_type": "code",
   "execution_count": 9,
   "metadata": {},
   "outputs": [
    {
     "name": "stdout",
     "output_type": "stream",
     "text": [
      "Requirement already satisfied: Flask in c:\\users\\t-gamer\\desktop\\evolution-router-hackingrio\\code\\venv\\lib\\site-packages (1.1.2)\n",
      "Requirement already satisfied: itsdangerous>=0.24 in c:\\users\\t-gamer\\desktop\\evolution-router-hackingrio\\code\\venv\\lib\\site-packages (from Flask) (1.1.0)\n",
      "Requirement already satisfied: click>=5.1 in c:\\users\\t-gamer\\desktop\\evolution-router-hackingrio\\code\\venv\\lib\\site-packages (from Flask) (7.1.2)\n",
      "Requirement already satisfied: Werkzeug>=0.15 in c:\\users\\t-gamer\\desktop\\evolution-router-hackingrio\\code\\venv\\lib\\site-packages (from Flask) (1.0.1)\n",
      "Requirement already satisfied: Jinja2>=2.10.1 in c:\\users\\t-gamer\\desktop\\evolution-router-hackingrio\\code\\venv\\lib\\site-packages (from Flask) (2.11.2)\n",
      "Requirement already satisfied: MarkupSafe>=0.23 in c:\\users\\t-gamer\\desktop\\evolution-router-hackingrio\\code\\venv\\lib\\site-packages (from Jinja2>=2.10.1->Flask) (1.1.1)\n"
     ]
    }
   ],
   "source": [
    "!pip install Flask"
   ]
  },
  {
   "cell_type": "code",
   "execution_count": 11,
   "metadata": {},
   "outputs": [],
   "source": [
    "import flask"
   ]
  },
  {
   "cell_type": "code",
   "execution_count": 13,
   "metadata": {},
   "outputs": [
    {
     "ename": "ImportError",
     "evalue": "cannot import name 'flask' from 'flask' (C:\\Users\\T-Gamer\\Desktop\\evolution-router-hackingrio\\code\\flask.py)",
     "output_type": "error",
     "traceback": [
      "\u001b[1;31m---------------------------------------------------------------------------\u001b[0m",
      "\u001b[1;31mImportError\u001b[0m                               Traceback (most recent call last)",
      "\u001b[1;32m<ipython-input-13-47c503cb7a93>\u001b[0m in \u001b[0;36m<module>\u001b[1;34m\u001b[0m\n\u001b[1;32m----> 1\u001b[1;33m \u001b[1;32mfrom\u001b[0m \u001b[0mflask\u001b[0m \u001b[1;32mimport\u001b[0m \u001b[0mflask\u001b[0m\u001b[1;33m\u001b[0m\u001b[1;33m\u001b[0m\u001b[0m\n\u001b[0m",
      "\u001b[1;31mImportError\u001b[0m: cannot import name 'flask' from 'flask' (C:\\Users\\T-Gamer\\Desktop\\evolution-router-hackingrio\\code\\flask.py)"
     ]
    }
   ],
   "source": [
    "from flask import Flask"
   ]
  },
  {
   "cell_type": "code",
   "execution_count": 1,
   "metadata": {},
   "outputs": [],
   "source": [
    "import json\n",
    "import requests\n",
    "from geopy.geocoders import Nominatim\n",
    "import numpy as np\n",
    "import matplotlib.pyplot as plt\n",
    "from copy import copy\n",
    "import folium\n",
    "from folium.plugins import BeautifyIcon\n",
    "plt.style.use('seaborn')"
   ]
  },
  {
   "cell_type": "code",
   "execution_count": 3,
   "metadata": {},
   "outputs": [],
   "source": [
    "#OK\n",
    "\n",
    "def create_shop_dict(shops_names, n_shops):\n",
    "    list_shops = shops_names[:n_shops]\n",
    "    list_deliveries = shops_names[n_shops:]\n",
    "    shop_dict = {}\n",
    "\n",
    "    for i,v in enumerate(list_shops):\n",
    "        shop_dict[i+1] = []\n",
    "        for j,w in enumerate(list_deliveries):\n",
    "            if v == w:\n",
    "                shop_dict[i+1].append(j+n_shops+1)\n",
    "    return shop_dict"
   ]
  },
  {
   "cell_type": "code",
   "execution_count": 4,
   "metadata": {},
   "outputs": [],
   "source": [
    "#OK\n",
    "\n",
    "def get_distance(address_1, address_2, coordinates, metric, API_KEY='Wo4TQp6dReCezt0qVyIlSgAWTfex3lzUtcRcw0DN-uM', mode='fastest', vehicle='car', traffic='enabled'):\n",
    "    \"\"\"\n",
    "    Given two address, this calculates the selected metric between then\n",
    "    \"\"\"\n",
    "    c1 = coordinates[address_1]\n",
    "    c2 = coordinates[address_2]\n",
    "    request_template = f'https://route.ls.hereapi.com/routing/7.2/calculateroute.json?apiKey={API_KEY}&waypoint0=geo!{c1[0]},{c1[1]}&waypoint1=geo!{c2[0]},{c2[1]}&mode={mode};{vehicle};traffic:{traffic}'\n",
    "    \n",
    "    r = requests.get(request_template)\n",
    "    request_json = json.loads(r.text)\n",
    "    \n",
    "    if metric == 'distance':\n",
    "        result = request_json['response']['route'][0]['summary']['distance']/1000\n",
    "    elif metric == 'time':\n",
    "        result = request_json['response']['route'][0]['summary']['travelTime']/60\n",
    "    return result"
   ]
  },
  {
   "cell_type": "code",
   "execution_count": 5,
   "metadata": {},
   "outputs": [],
   "source": [
    "#OK\n",
    "\n",
    "def save_distances(addresses, coordinates, metric):\n",
    "    metric_results = {}\n",
    "    l = len(addresses)\n",
    "    for i in range(l):\n",
    "        for j in range(l):\n",
    "            if i != j:\n",
    "                metric_results[(i, j)] = get_distance(i, j, coordinates, metric)\n",
    "    return metric_results"
   ]
  },
  {
   "cell_type": "code",
   "execution_count": 6,
   "metadata": {},
   "outputs": [],
   "source": [
    "#OK\n",
    "def distance_between_address(address_1, address_2, metric_results, API_KEY='Wo4TQp6dReCezt0qVyIlSgAWTfex3lzUtcRcw0DN-uM', mode='fastest', vehicle='car', traffic='disabled'):\n",
    "    \"\"\"\n",
    "    Given two address, this calculates this distance between them\n",
    "    \"\"\"\n",
    "    \n",
    "    return metric_results[(address_1, address_2)]"
   ]
  },
  {
   "cell_type": "code",
   "execution_count": 7,
   "metadata": {},
   "outputs": [],
   "source": [
    "#OK\n",
    "\n",
    "def create_guess(coordinates_keys, shop_dict):\n",
    "    \"\"\"\n",
    "    Creates a possible route between all adresses, returning to the original.\n",
    "    Input: List of Adr\n",
    "    \"\"\"\n",
    "    guess = copy(coordinates_keys)\n",
    "    np.random.shuffle(guess)\n",
    "\n",
    "    while True:\n",
    "        if guess[0] != 0 or check_key_and_values(guess[1:], shop_dict) == False:\n",
    "            np.random.shuffle(guess)\n",
    "        else:\n",
    "            break\n",
    "    guess.append(guess[0])\n",
    "    return list(guess)\n",
    "\n",
    "def check_key_and_values(lista, dicionario):\n",
    "    \"\"\"\n",
    "        Dada uma lista, e um dicionario, retorne True se as keys do dicionario vem antes de algum elemento\n",
    "        \n",
    "    \"\"\"\n",
    "    for id_key, id_values in dicionario.items():\n",
    "        index_key = lista.index(id_key)\n",
    "        for id_value in id_values:\n",
    "            index_value = lista.index(id_value)\n",
    "            if index_key > index_value:\n",
    "                return False\n",
    "    return True"
   ]
  },
  {
   "cell_type": "code",
   "execution_count": 8,
   "metadata": {},
   "outputs": [],
   "source": [
    "#OK\n",
    "def create_generation(coordinates_keys, shop_dict, population=100):\n",
    "    \"\"\"\n",
    "    Makes a list of guessed adress orders given a list of address IDs.\n",
    "    Input:\n",
    "    adresses: list of address ids\n",
    "    population: how many guesses to make\n",
    "    \"\"\"\n",
    "    generation = [create_guess(coordinates_keys, shop_dict) for _ in range(population)]\n",
    "    return generation"
   ]
  },
  {
   "cell_type": "code",
   "execution_count": 9,
   "metadata": {},
   "outputs": [],
   "source": [
    "#OK\n",
    "def fitness_score(guess, metric_results):\n",
    "    \"\"\"\n",
    "    Loops through the adresses in the guesses order and calculates\n",
    "    how much distance the path would take to complete a loop.\n",
    "    Lower is better.\n",
    "    \"\"\"\n",
    "    score = 0\n",
    "    for ix, address_id in enumerate(guess[:-2]):\n",
    "    #Editado aqui\n",
    "    #for ix, address_id in enumerate(guess[:-1]):\n",
    "        score += distance_between_address(address_id, guess[ix+1], metric_results)\n",
    "    return score"
   ]
  },
  {
   "cell_type": "code",
   "execution_count": 10,
   "metadata": {},
   "outputs": [],
   "source": [
    "#OK\n",
    "def check_fitness(guesses, metric_results):\n",
    "    \"\"\"\n",
    "    Goes through every guess and calculates the fitness score. \n",
    "    Returns a list of tuples: (guess, fitness_score)\n",
    "    \"\"\"\n",
    "    fitness_indicator = []\n",
    "    for guess in guesses:\n",
    "        fitness_indicator.append((guess, fitness_score(guess, metric_results)))\n",
    "    \n",
    "    return fitness_indicator"
   ]
  },
  {
   "cell_type": "code",
   "execution_count": 11,
   "metadata": {},
   "outputs": [],
   "source": [
    "def get_breeders_from_generation(guesses, metric_results, take_best_N=10, take_random_N=5, verbose=False, mutation_rate=0.1):\n",
    "    \"\"\"\n",
    "    This sets up the breeding group for the next generation. You have\n",
    "    to be very careful how many breeders you take, otherwise your\n",
    "    population can explode. These two, plus the \"number of children per couple\"\n",
    "    in the make_children function must be tuned to avoid exponential growth or decline!\n",
    "    \"\"\"\n",
    "    # First, get the top guesses from last time\n",
    "    fit_scores = check_fitness(guesses, metric_results)\n",
    "    sorted_guesses = sorted(fit_scores, key=lambda x: x[1]) # sorts so lowest is first, which we want\n",
    "    new_generation = [x[0] for x in sorted_guesses[:take_best_N]]\n",
    "    best_guess = new_generation[0]\n",
    "    \n",
    "    if verbose:\n",
    "        # If we want to see what the best current guess is!\n",
    "        print(best_guess)\n",
    "    \n",
    "    # Second, get some random ones for genetic diversity\n",
    "    for _ in range(take_random_N):\n",
    "        #ix = np.random.randint(len(guesses))\n",
    "        ix = np.random.randint(len(guesses)-1)\n",
    "        new_generation.append(guesses[ix])\n",
    "        \n",
    "    # No mutations here since the order really matters.\n",
    "    # If we wanted to, we could add a \"swapping\" mutation,\n",
    "    # but in practice it doesn't seem to be necessary\n",
    "    \n",
    "    np.random.shuffle(new_generation)\n",
    "    return new_generation, best_guess"
   ]
  },
  {
   "cell_type": "code",
   "execution_count": 12,
   "metadata": {},
   "outputs": [],
   "source": [
    "def make_child(parent1, parent2):\n",
    "    \"\"\" \n",
    "    Take some values from parent 1 and hold them in place, then merge in values\n",
    "    from parent2, filling in from left to right with addresses that aren't already in \n",
    "    the child. \n",
    "    \"\"\"\n",
    "    list_of_ids_for_parent1 = list(np.random.choice(parent1, replace=False, size=len(parent1)//2))\n",
    "    child = [-99 for _ in parent1]\n",
    "    \n",
    "    for ix in list_of_ids_for_parent1:\n",
    "        child[ix] = parent1[ix]\n",
    "    for ix, gene in enumerate(child):\n",
    "        if gene == -99:\n",
    "            for gene2 in parent2:\n",
    "                if gene2 not in child:\n",
    "                    child[ix] = gene2\n",
    "                    break\n",
    "    \n",
    "    child[-1] = child[0]\n",
    "    return child"
   ]
  },
  {
   "cell_type": "code",
   "execution_count": 13,
   "metadata": {},
   "outputs": [],
   "source": [
    "def make_children(old_generation, children_per_couple=1):\n",
    "    \"\"\"\n",
    "    Pairs parents together, and makes children for each pair. \n",
    "    If there are an odd number of parent possibilities, one \n",
    "    will be left out. \n",
    "    \n",
    "    Pairing happens by pairing the first and last entries. \n",
    "    Then the second and second from last, and so on.\n",
    "    \"\"\"\n",
    "    mid_point = len(old_generation)//2\n",
    "    next_generation = [] \n",
    "    \n",
    "    for ix, parent in enumerate(old_generation[:mid_point]):\n",
    "        for _ in range(children_per_couple):\n",
    "            next_generation.append(make_child(parent, old_generation[-ix-1]))\n",
    "    return next_generation"
   ]
  },
  {
   "cell_type": "code",
   "execution_count": 14,
   "metadata": {},
   "outputs": [],
   "source": [
    "def evolve_to_solve(current_generation, metric_results, max_generations, take_best_N, take_random_N,\n",
    "                    mutation_rate, children_per_couple, print_every_n_generations, verbose=False):\n",
    "    \"\"\"\n",
    "    Takes in a generation of guesses then evolves them over time using our breeding rules.\n",
    "    Continue this for \"max_generations\" times.\n",
    "    Inputs:\n",
    "    current_generation: The first generation of guesses\n",
    "    max_generations: how many generations to complete\n",
    "    take_best_N: how many of the top performers get selected to breed\n",
    "    take_random_N: how many random guesses get brought in to keep genetic diversity\n",
    "    mutation_rate: How often to mutate (currently unused)\n",
    "    children_per_couple: how many children per breeding pair\n",
    "    print_every_n_geneartions: how often to print in verbose mode\n",
    "    verbose: Show printouts of progress\n",
    "    Returns:\n",
    "    fitness_tracking: a list of the fitness score at each generations\n",
    "    best_guess: the best_guess at the end of evolution\n",
    "    \"\"\"\n",
    "    fitness_tracking = []\n",
    "    for i in range(max_generations):\n",
    "        if verbose and not i % print_every_n_generations and i > 0:\n",
    "            print(\"Generation %i: \"%i, end='')\n",
    "            print(len(current_generation))\n",
    "            print(\"Current Best Score: \", fitness_tracking[-1])\n",
    "            is_verbose = True\n",
    "        else:\n",
    "            is_verbose = False\n",
    "        breeders, best_guess = get_breeders_from_generation(current_generation, metric_results, \n",
    "                                                            take_best_N=take_best_N, take_random_N=take_random_N, \n",
    "                                                            verbose=is_verbose, mutation_rate=mutation_rate)\n",
    "        fitness_tracking.append(fitness_score(best_guess, metric_results))\n",
    "        current_generation = make_children(breeders, children_per_couple=children_per_couple)\n",
    "    return fitness_tracking, best_guess\n"
   ]
  },
  {
   "cell_type": "code",
   "execution_count": 15,
   "metadata": {},
   "outputs": [],
   "source": [
    "def plot_map(geolocator, best_guess, coordinates, addresses, shops_names, n_shops):\n",
    "    location = geolocator.geocode(\"Rio de Janeiro, RJ, Brazil\")\n",
    "    m = folium.Map(location = [location.latitude, location.longitude], zoom_start = 11)\n",
    "    \n",
    "    for ix,i in enumerate(best_guess):\n",
    "        popup = 'None'\n",
    "        color = '#000000'\n",
    "    \n",
    "        if ix == 0:\n",
    "            popup = folium.Popup('Origem')\n",
    "            color ='#000000'\n",
    "        elif i > 0 and i <= n_shops:\n",
    "            popup = folium.Popup('{}a Parada<br>Abastecimento na Loja {}'.format(ix, shops_names[i-1]), max_width=200)\n",
    "            color = '#2ca02c'\n",
    "        else:\n",
    "            popup = folium.Popup('{}a Parada<br>Entrega da Loja {}'.format(ix, shops_names[i-1]), max_width=200)\n",
    "            color = '#BA3CC2'\n",
    "    \n",
    "        icon_number = BeautifyIcon(\n",
    "        border_color=color,\n",
    "        text_color='#000000',\n",
    "        number=ix,\n",
    "        icon_size=[30,30],\n",
    "        inner_icon_style='margin_top:10;')\n",
    "\n",
    "        folium.Marker(\n",
    "        location=[coordinates[i][0], coordinates[i][1]],\n",
    "        popup=popup,\n",
    "        tooltip=addresses[i],\n",
    "        icon=icon_number).add_to(m)\n",
    "        \n",
    "    return m"
   ]
  },
  {
   "cell_type": "code",
   "execution_count": 16,
   "metadata": {},
   "outputs": [],
   "source": [
    "# def plot_address(coordinates, annotate=True):\n",
    "#     \"\"\"\n",
    "#     Makes a plot of all addresses.\n",
    "#     Input: address_coordinates; dictionary of all addresses and their coordinates in (x,y) format\n",
    "#     \"\"\"\n",
    "#     names = []\n",
    "#     x = []\n",
    "#     y = []\n",
    "#     plt.figure(dpi=250)\n",
    "#     for ix, coord in coordinates.items():\n",
    "#         names.append(ix)\n",
    "#         x.append(coord[0])\n",
    "#         y.append(coord[1])\n",
    "#         if annotate:\n",
    "#             plt.annotate(ix, xy=(coord[0], coord[1]), xytext=(20, -20),\n",
    "#                         textcoords='offset points', ha='right', va='bottom',\n",
    "#                         bbox=dict(boxstyle='round,pad=0.5', fc='w', alpha=0.5),\n",
    "#                         arrowprops=dict(arrowstyle = '->', connectionstyle='arc3,rad=0'))\n",
    "#     plt.scatter(x,y,c='r',marker='o')"
   ]
  },
  {
   "cell_type": "code",
   "execution_count": 17,
   "metadata": {},
   "outputs": [],
   "source": [
    "# def plot_guess(coordinates, guess, guess_in_title=True):\n",
    "#     \"\"\"\n",
    "#     Takes the coordinates of the cities and the guessed path and\n",
    "#     makes a plot connecting the cities in the guessed order\n",
    "#     Input:\n",
    "#     city_coordinate: dictionary of city id, (x,y)\n",
    "#     guess: list of ids in order\n",
    "#     \"\"\"\n",
    "#     plot_address(coordinates)\n",
    "#     for ix, address_city in enumerate(guess[:-1]):\n",
    "#         x = [coordinates[guess[ix]][0], coordinates[guess[ix+1]][0]]\n",
    "#         y = [coordinates[guess[ix]][1], coordinates[guess[ix+1]][1]]\n",
    "#         if ix == 0:\n",
    "#             plt.plot(x,y,'g--',lw=1)\n",
    "#         elif ix == len(guess)-2:\n",
    "#             plt.plot(x,y,'r--',lw=1)\n",
    "#         else:\n",
    "#             plt.plot(x,y,'c--',lw=1)\n",
    "#     plt.scatter(coordinates[guess[0]][0], coordinates[guess[0]][1], marker='x', c='b')\n",
    "#     if guess_in_title:\n",
    "#         plt.title(\"Current Guess: [%s]\"%(','.join([str(x) for x in guess])))\n",
    "#     else:\n",
    "#         print(\"Current Guess: [%s]\"%(','.join([str(x) for x in guess])))"
   ]
  },
  {
   "cell_type": "code",
   "execution_count": 18,
   "metadata": {},
   "outputs": [],
   "source": [
    "def pipeline_model(addresses, shops_names, n_shops, metric):\n",
    "    '''\n",
    "    addresses -> todos os endereços (origem, lojas, entregas)\n",
    "    shops_names -> nome das lojas (lojas, entregas)\n",
    "    n_shops -> quantidade de lojas\n",
    "    metric -> métrica para calcular o resultado (distancia ou tempo)\n",
    "    \n",
    "    '''\n",
    "    geolocator = Nominatim(user_agent=\"rickchaves\")\n",
    "\n",
    "    coordinates = {i:[geolocator.geocode(k).latitude, geolocator.geocode(k).longitude] for i,k in enumerate(addresses)}\n",
    "\n",
    "    coordinates_keys = list(coordinates.keys())\n",
    "\n",
    "    shop_dict = create_shop_dict(shops_names, n_shops)\n",
    "    \n",
    "    metric_results = save_distances(addresses, coordinates, metric)\n",
    "    \n",
    "    current_generation = create_generation(coordinates_keys, shop_dict, population=500)\n",
    "    \n",
    "    _ , best_guess = evolve_to_solve(current_generation, metric_results, 100, 150, 70, 0.05, 3, 5, verbose=False)\n",
    "    \n",
    "    m = plot_map(geolocator, best_guess[:-1], coordinates, addresses, shops_names, n_shops)\n",
    "    m.save('map.html')\n",
    "    return m"
   ]
  },
  {
   "cell_type": "markdown",
   "metadata": {},
   "source": [
    "## Testando as funções"
   ]
  },
  {
   "cell_type": "code",
   "execution_count": 19,
   "metadata": {},
   "outputs": [],
   "source": [
    "addresses =['Estrada do Lameirão, Rio de Janeiro',\n",
    "            'Estrada da Água Branca, 3196, Rio de Janeiro', 'Rua Joaquim Moreira Neves, 131, Rio de Janeiro', \n",
    "            'Rua Francisco Real 5, Rio de Janeiro', 'Av. de Santa Cruz, 4.773, Rio de Janeiro']\n",
    "\n",
    "shops_names = ['Realengo', 'Recreio', 'Recreio', 'Realengo']\n",
    "\n",
    "metric = 'distance'\n",
    "\n",
    "n_shops = int(len(set(shops_names)))"
   ]
  },
  {
   "cell_type": "code",
   "execution_count": 20,
   "metadata": {},
   "outputs": [
    {
     "data": {
      "text/html": [
       "<div style=\"width:100%;\"><div style=\"position:relative;width:100%;height:0;padding-bottom:60%;\"><span style=\"color:#565656\">Make this Notebook Trusted to load map: File -> Trust Notebook</span><iframe src=\"about:blank\" style=\"position:absolute;width:100%;height:100%;left:0;top:0;border:none !important;\" data-html=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 onload=\"this.contentDocument.open();this.contentDocument.write(atob(this.getAttribute('data-html')));this.contentDocument.close();\" allowfullscreen webkitallowfullscreen mozallowfullscreen></iframe></div></div>"
      ],
      "text/plain": [
       "<folium.folium.Map at 0x1df4df8aeb0>"
      ]
     },
     "execution_count": 20,
     "metadata": {},
     "output_type": "execute_result"
    }
   ],
   "source": [
    "pipeline_model(addresses, shops_names, n_shops, metric)"
   ]
  }
 ],
 "metadata": {
  "kernelspec": {
   "display_name": "Python 3",
   "language": "python",
   "name": "python3"
  },
  "language_info": {
   "codemirror_mode": {
    "name": "ipython",
    "version": 3
   },
   "file_extension": ".py",
   "mimetype": "text/x-python",
   "name": "python",
   "nbconvert_exporter": "python",
   "pygments_lexer": "ipython3",
   "version": "3.8.3"
  }
 },
 "nbformat": 4,
 "nbformat_minor": 4
}
